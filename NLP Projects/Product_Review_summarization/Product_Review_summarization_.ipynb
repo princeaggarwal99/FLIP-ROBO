{
 "cells": [
  {
   "cell_type": "code",
   "execution_count": 1,
   "metadata": {},
   "outputs": [],
   "source": [
    "# importing libraries\n",
    "import pandas as pd \n",
    "import seaborn as sns\n",
    "import matplotlib.pyplot as plt\n",
    "import pandas as pd \n",
    "import warnings\n",
    "warnings.filterwarnings('ignore')\n",
    "import gensim\n",
    "from gensim.utils import simple_preprocess\n",
    "from gensim.parsing.preprocessing import STOPWORDS\n",
    "from nltk.stem import WordNetLemmatizer, SnowballStemmer\n",
    "import numpy as np\n",
    "import pandas as pd"
   ]
  },
  {
   "cell_type": "code",
   "execution_count": 2,
   "metadata": {},
   "outputs": [],
   "source": [
    "# reading dataset (json file)\n",
    "data=pd.read_json(\"Cell_Phones_and_Accessories.json\")"
   ]
  },
  {
   "cell_type": "code",
   "execution_count": 3,
   "metadata": {},
   "outputs": [
    {
     "data": {
      "text/html": [
       "<div>\n",
       "<style scoped>\n",
       "    .dataframe tbody tr th:only-of-type {\n",
       "        vertical-align: middle;\n",
       "    }\n",
       "\n",
       "    .dataframe tbody tr th {\n",
       "        vertical-align: top;\n",
       "    }\n",
       "\n",
       "    .dataframe thead th {\n",
       "        text-align: right;\n",
       "    }\n",
       "</style>\n",
       "<table border=\"1\" class=\"dataframe\">\n",
       "  <thead>\n",
       "    <tr style=\"text-align: right;\">\n",
       "      <th></th>\n",
       "      <th>Rating</th>\n",
       "      <th>Rev_verify</th>\n",
       "      <th>Review_Date</th>\n",
       "      <th>IC</th>\n",
       "      <th>Prod_meta</th>\n",
       "      <th>Reviewer_Name</th>\n",
       "      <th>Review</th>\n",
       "      <th>Rev_summ</th>\n",
       "      <th>Review_timestamp</th>\n",
       "      <th>Useful</th>\n",
       "      <th>Prod_img</th>\n",
       "    </tr>\n",
       "  </thead>\n",
       "  <tbody>\n",
       "    <tr>\n",
       "      <td>0</td>\n",
       "      <td>5</td>\n",
       "      <td>True</td>\n",
       "      <td>09 1, 2015</td>\n",
       "      <td>B009XD5TPQ</td>\n",
       "      <td>None</td>\n",
       "      <td>Sunny  Zoeller</td>\n",
       "      <td>Bought it for my husband. He's very happy with it</td>\n",
       "      <td>He's very happy with</td>\n",
       "      <td>1441065600</td>\n",
       "      <td>None</td>\n",
       "      <td>None</td>\n",
       "    </tr>\n",
       "    <tr>\n",
       "      <td>1</td>\n",
       "      <td>5</td>\n",
       "      <td>True</td>\n",
       "      <td>01 9, 2016</td>\n",
       "      <td>B016MF3P3K</td>\n",
       "      <td>None</td>\n",
       "      <td>Denise Lesley</td>\n",
       "      <td>Great screen protector.  Doesn't even seem as ...</td>\n",
       "      <td>Five Stars</td>\n",
       "      <td>1452297600</td>\n",
       "      <td>None</td>\n",
       "      <td>None</td>\n",
       "    </tr>\n",
       "    <tr>\n",
       "      <td>2</td>\n",
       "      <td>5</td>\n",
       "      <td>True</td>\n",
       "      <td>04 21, 2013</td>\n",
       "      <td>B008DC8N5G</td>\n",
       "      <td>None</td>\n",
       "      <td>Emir</td>\n",
       "      <td>Saved me lots of money! it's not gorilla glass...</td>\n",
       "      <td>As long as you know how to put it on!</td>\n",
       "      <td>1366502400</td>\n",
       "      <td>None</td>\n",
       "      <td>None</td>\n",
       "    </tr>\n",
       "    <tr>\n",
       "      <td>3</td>\n",
       "      <td>3</td>\n",
       "      <td>True</td>\n",
       "      <td>02 27, 2013</td>\n",
       "      <td>B0089CH3TM</td>\n",
       "      <td>{'Color:': ' Green'}</td>\n",
       "      <td>Alyse</td>\n",
       "      <td>The material and fit is very nice, but the col...</td>\n",
       "      <td>Good case overall</td>\n",
       "      <td>1361923200</td>\n",
       "      <td>3</td>\n",
       "      <td>None</td>\n",
       "    </tr>\n",
       "    <tr>\n",
       "      <td>4</td>\n",
       "      <td>4</td>\n",
       "      <td>True</td>\n",
       "      <td>12 19, 2013</td>\n",
       "      <td>B00AKZWGAC</td>\n",
       "      <td>None</td>\n",
       "      <td>TechGuy</td>\n",
       "      <td>This last me about 3 days till i have to charg...</td>\n",
       "      <td>Awesome Battery</td>\n",
       "      <td>1387411200</td>\n",
       "      <td>None</td>\n",
       "      <td>None</td>\n",
       "    </tr>\n",
       "  </tbody>\n",
       "</table>\n",
       "</div>"
      ],
      "text/plain": [
       "   Rating  Rev_verify  Review_Date          IC             Prod_meta  \\\n",
       "0       5        True   09 1, 2015  B009XD5TPQ                  None   \n",
       "1       5        True   01 9, 2016  B016MF3P3K                  None   \n",
       "2       5        True  04 21, 2013  B008DC8N5G                  None   \n",
       "3       3        True  02 27, 2013  B0089CH3TM  {'Color:': ' Green'}   \n",
       "4       4        True  12 19, 2013  B00AKZWGAC                  None   \n",
       "\n",
       "    Reviewer_Name                                             Review  \\\n",
       "0  Sunny  Zoeller  Bought it for my husband. He's very happy with it   \n",
       "1   Denise Lesley  Great screen protector.  Doesn't even seem as ...   \n",
       "2            Emir  Saved me lots of money! it's not gorilla glass...   \n",
       "3           Alyse  The material and fit is very nice, but the col...   \n",
       "4         TechGuy  This last me about 3 days till i have to charg...   \n",
       "\n",
       "                                Rev_summ  Review_timestamp Useful Prod_img  \n",
       "0                   He's very happy with        1441065600   None     None  \n",
       "1                             Five Stars        1452297600   None     None  \n",
       "2  As long as you know how to put it on!        1366502400   None     None  \n",
       "3                      Good case overall        1361923200      3     None  \n",
       "4                        Awesome Battery        1387411200   None     None  "
      ]
     },
     "execution_count": 3,
     "metadata": {},
     "output_type": "execute_result"
    }
   ],
   "source": [
    "data.head()"
   ]
  },
  {
   "cell_type": "code",
   "execution_count": 4,
   "metadata": {},
   "outputs": [
    {
     "name": "stdout",
     "output_type": "stream",
     "text": [
      "<class 'pandas.core.frame.DataFrame'>\n",
      "Int64Index: 760450 entries, 0 to 760449\n",
      "Data columns (total 11 columns):\n",
      "Rating              760450 non-null int64\n",
      "Rev_verify          760450 non-null bool\n",
      "Review_Date         760450 non-null object\n",
      "IC                  760450 non-null object\n",
      "Prod_meta           407826 non-null object\n",
      "Reviewer_Name       760359 non-null object\n",
      "Review              759920 non-null object\n",
      "Rev_summ            760095 non-null object\n",
      "Review_timestamp    760450 non-null int64\n",
      "Useful              62200 non-null object\n",
      "Prod_img            18194 non-null object\n",
      "dtypes: bool(1), int64(2), object(8)\n",
      "memory usage: 64.5+ MB\n"
     ]
    }
   ],
   "source": [
    "data.info()"
   ]
  },
  {
   "cell_type": "code",
   "execution_count": 5,
   "metadata": {},
   "outputs": [
    {
     "data": {
      "text/html": [
       "<div>\n",
       "<style scoped>\n",
       "    .dataframe tbody tr th:only-of-type {\n",
       "        vertical-align: middle;\n",
       "    }\n",
       "\n",
       "    .dataframe tbody tr th {\n",
       "        vertical-align: top;\n",
       "    }\n",
       "\n",
       "    .dataframe thead th {\n",
       "        text-align: right;\n",
       "    }\n",
       "</style>\n",
       "<table border=\"1\" class=\"dataframe\">\n",
       "  <thead>\n",
       "    <tr style=\"text-align: right;\">\n",
       "      <th></th>\n",
       "      <th>Rating</th>\n",
       "      <th>Review_timestamp</th>\n",
       "    </tr>\n",
       "  </thead>\n",
       "  <tbody>\n",
       "    <tr>\n",
       "      <td>count</td>\n",
       "      <td>760450.000000</td>\n",
       "      <td>7.604500e+05</td>\n",
       "    </tr>\n",
       "    <tr>\n",
       "      <td>mean</td>\n",
       "      <td>4.221357</td>\n",
       "      <td>1.440417e+09</td>\n",
       "    </tr>\n",
       "    <tr>\n",
       "      <td>std</td>\n",
       "      <td>1.232186</td>\n",
       "      <td>4.563251e+07</td>\n",
       "    </tr>\n",
       "    <tr>\n",
       "      <td>min</td>\n",
       "      <td>1.000000</td>\n",
       "      <td>1.035331e+09</td>\n",
       "    </tr>\n",
       "    <tr>\n",
       "      <td>25%</td>\n",
       "      <td>4.000000</td>\n",
       "      <td>1.416355e+09</td>\n",
       "    </tr>\n",
       "    <tr>\n",
       "      <td>50%</td>\n",
       "      <td>5.000000</td>\n",
       "      <td>1.444349e+09</td>\n",
       "    </tr>\n",
       "    <tr>\n",
       "      <td>75%</td>\n",
       "      <td>5.000000</td>\n",
       "      <td>1.470442e+09</td>\n",
       "    </tr>\n",
       "    <tr>\n",
       "      <td>max</td>\n",
       "      <td>5.000000</td>\n",
       "      <td>1.538438e+09</td>\n",
       "    </tr>\n",
       "  </tbody>\n",
       "</table>\n",
       "</div>"
      ],
      "text/plain": [
       "              Rating  Review_timestamp\n",
       "count  760450.000000      7.604500e+05\n",
       "mean        4.221357      1.440417e+09\n",
       "std         1.232186      4.563251e+07\n",
       "min         1.000000      1.035331e+09\n",
       "25%         4.000000      1.416355e+09\n",
       "50%         5.000000      1.444349e+09\n",
       "75%         5.000000      1.470442e+09\n",
       "max         5.000000      1.538438e+09"
      ]
     },
     "execution_count": 5,
     "metadata": {},
     "output_type": "execute_result"
    }
   ],
   "source": [
    "data.describe()"
   ]
  },
  {
   "cell_type": "code",
   "execution_count": 6,
   "metadata": {},
   "outputs": [
    {
     "data": {
      "text/plain": [
       "(760450, 11)"
      ]
     },
     "execution_count": 6,
     "metadata": {},
     "output_type": "execute_result"
    }
   ],
   "source": [
    "# checking the shape\n",
    "data.shape"
   ]
  },
  {
   "cell_type": "code",
   "execution_count": 7,
   "metadata": {},
   "outputs": [],
   "source": [
    "# dropping some irrelevant columns from the dataset\n",
    "data.drop(['Review_timestamp','Reviewer_Name','Prod_img'],inplace=True,axis=1)"
   ]
  },
  {
   "cell_type": "code",
   "execution_count": 8,
   "metadata": {},
   "outputs": [
    {
     "data": {
      "text/html": [
       "<div>\n",
       "<style scoped>\n",
       "    .dataframe tbody tr th:only-of-type {\n",
       "        vertical-align: middle;\n",
       "    }\n",
       "\n",
       "    .dataframe tbody tr th {\n",
       "        vertical-align: top;\n",
       "    }\n",
       "\n",
       "    .dataframe thead th {\n",
       "        text-align: right;\n",
       "    }\n",
       "</style>\n",
       "<table border=\"1\" class=\"dataframe\">\n",
       "  <thead>\n",
       "    <tr style=\"text-align: right;\">\n",
       "      <th></th>\n",
       "      <th>Rating</th>\n",
       "      <th>Rev_verify</th>\n",
       "      <th>Review_Date</th>\n",
       "      <th>IC</th>\n",
       "      <th>Prod_meta</th>\n",
       "      <th>Review</th>\n",
       "      <th>Rev_summ</th>\n",
       "      <th>Useful</th>\n",
       "    </tr>\n",
       "  </thead>\n",
       "  <tbody>\n",
       "    <tr>\n",
       "      <td>0</td>\n",
       "      <td>5</td>\n",
       "      <td>True</td>\n",
       "      <td>09 1, 2015</td>\n",
       "      <td>B009XD5TPQ</td>\n",
       "      <td>None</td>\n",
       "      <td>Bought it for my husband. He's very happy with it</td>\n",
       "      <td>He's very happy with</td>\n",
       "      <td>None</td>\n",
       "    </tr>\n",
       "    <tr>\n",
       "      <td>1</td>\n",
       "      <td>5</td>\n",
       "      <td>True</td>\n",
       "      <td>01 9, 2016</td>\n",
       "      <td>B016MF3P3K</td>\n",
       "      <td>None</td>\n",
       "      <td>Great screen protector.  Doesn't even seem as ...</td>\n",
       "      <td>Five Stars</td>\n",
       "      <td>None</td>\n",
       "    </tr>\n",
       "    <tr>\n",
       "      <td>2</td>\n",
       "      <td>5</td>\n",
       "      <td>True</td>\n",
       "      <td>04 21, 2013</td>\n",
       "      <td>B008DC8N5G</td>\n",
       "      <td>None</td>\n",
       "      <td>Saved me lots of money! it's not gorilla glass...</td>\n",
       "      <td>As long as you know how to put it on!</td>\n",
       "      <td>None</td>\n",
       "    </tr>\n",
       "    <tr>\n",
       "      <td>3</td>\n",
       "      <td>3</td>\n",
       "      <td>True</td>\n",
       "      <td>02 27, 2013</td>\n",
       "      <td>B0089CH3TM</td>\n",
       "      <td>{'Color:': ' Green'}</td>\n",
       "      <td>The material and fit is very nice, but the col...</td>\n",
       "      <td>Good case overall</td>\n",
       "      <td>3</td>\n",
       "    </tr>\n",
       "    <tr>\n",
       "      <td>4</td>\n",
       "      <td>4</td>\n",
       "      <td>True</td>\n",
       "      <td>12 19, 2013</td>\n",
       "      <td>B00AKZWGAC</td>\n",
       "      <td>None</td>\n",
       "      <td>This last me about 3 days till i have to charg...</td>\n",
       "      <td>Awesome Battery</td>\n",
       "      <td>None</td>\n",
       "    </tr>\n",
       "  </tbody>\n",
       "</table>\n",
       "</div>"
      ],
      "text/plain": [
       "   Rating  Rev_verify  Review_Date          IC             Prod_meta  \\\n",
       "0       5        True   09 1, 2015  B009XD5TPQ                  None   \n",
       "1       5        True   01 9, 2016  B016MF3P3K                  None   \n",
       "2       5        True  04 21, 2013  B008DC8N5G                  None   \n",
       "3       3        True  02 27, 2013  B0089CH3TM  {'Color:': ' Green'}   \n",
       "4       4        True  12 19, 2013  B00AKZWGAC                  None   \n",
       "\n",
       "                                              Review  \\\n",
       "0  Bought it for my husband. He's very happy with it   \n",
       "1  Great screen protector.  Doesn't even seem as ...   \n",
       "2  Saved me lots of money! it's not gorilla glass...   \n",
       "3  The material and fit is very nice, but the col...   \n",
       "4  This last me about 3 days till i have to charg...   \n",
       "\n",
       "                                Rev_summ Useful  \n",
       "0                   He's very happy with   None  \n",
       "1                             Five Stars   None  \n",
       "2  As long as you know how to put it on!   None  \n",
       "3                      Good case overall      3  \n",
       "4                        Awesome Battery   None  "
      ]
     },
     "execution_count": 8,
     "metadata": {},
     "output_type": "execute_result"
    }
   ],
   "source": [
    "data.head()"
   ]
  },
  {
   "cell_type": "code",
   "execution_count": 9,
   "metadata": {},
   "outputs": [],
   "source": [
    "# converting review_date to datetime form for some time analysis\n",
    "data['Review_Date']=pd.to_datetime(data['Review_Date'])"
   ]
  },
  {
   "cell_type": "code",
   "execution_count": 10,
   "metadata": {},
   "outputs": [],
   "source": [
    "# making a month coloum\n",
    "data['Review_month']=data['Review_Date'].dt.month"
   ]
  },
  {
   "cell_type": "code",
   "execution_count": 11,
   "metadata": {},
   "outputs": [
    {
     "data": {
      "text/plain": [
       "array([5, 3, 4, 1, 2], dtype=int64)"
      ]
     },
     "execution_count": 11,
     "metadata": {},
     "output_type": "execute_result"
    }
   ],
   "source": [
    "data['Rating'].unique()\n",
    "# ratings are from 1 to 5"
   ]
  },
  {
   "cell_type": "code",
   "execution_count": 12,
   "metadata": {},
   "outputs": [
    {
     "data": {
      "text/plain": [
       "<matplotlib.axes._subplots.AxesSubplot at 0x1e754ad2908>"
      ]
     },
     "execution_count": 12,
     "metadata": {},
     "output_type": "execute_result"
    },
    {
     "data": {
      "image/png": "[encoded data removed]",
      "text/plain": [
       "<Figure size 432x288 with 1 Axes>"
      ]
     },
     "metadata": {
      "needs_background": "light"
     },
     "output_type": "display_data"
    }
   ],
   "source": [
    "sns.countplot(data['Rating'])\n",
    "# mostly reviews are very good (5)"
   ]
  },
  {
   "cell_type": "code",
   "execution_count": 13,
   "metadata": {},
   "outputs": [
    {
     "data": {
      "text/plain": [
       "<matplotlib.axes._subplots.AxesSubplot at 0x1e754aab348>"
      ]
     },
     "execution_count": 13,
     "metadata": {},
     "output_type": "execute_result"
    },
    {
     "data": {
      "image/png": "[encoded data removed]",
      "text/plain": [
       "<Figure size 432x288 with 1 Axes>"
      ]
     },
     "metadata": {
      "needs_background": "light"
     },
     "output_type": "display_data"
    }
   ],
   "source": [
    "sns.countplot(data['Review_month'])\n",
    "# in the first month, mostly reviews are done"
   ]
  },
  {
   "cell_type": "code",
   "execution_count": 14,
   "metadata": {},
   "outputs": [
    {
     "data": {
      "text/plain": [
       "17"
      ]
     },
     "execution_count": 14,
     "metadata": {},
     "output_type": "execute_result"
    }
   ],
   "source": [
    "data['Review_year']=data['Review_Date'].dt.year\n",
    "data['Review_year'].nunique()\n",
    "# 17 years"
   ]
  },
  {
   "cell_type": "code",
   "execution_count": 15,
   "metadata": {},
   "outputs": [
    {
     "data": {
      "text/plain": [
       "<matplotlib.axes._subplots.AxesSubplot at 0x1e754aa8388>"
      ]
     },
     "execution_count": 15,
     "metadata": {},
     "output_type": "execute_result"
    },
    {
     "data": {
      "image/png": "[encoded data removed]",
      "text/plain": [
       "<Figure size 720x504 with 1 Axes>"
      ]
     },
     "metadata": {
      "needs_background": "light"
     },
     "output_type": "display_data"
    }
   ],
   "source": [
    "plt.figure(figsize=(10,7))\n",
    "sns.countplot(data['Review_year'])\n",
    "# 2015 and 2016 are the years where mostly reviews are posted"
   ]
  },
  {
   "cell_type": "code",
   "execution_count": 16,
   "metadata": {},
   "outputs": [
    {
     "name": "stdout",
     "output_type": "stream",
     "text": [
      "data(IC) unique counts are  48134\n",
      "\n",
      "\n",
      "B00VH88CJ0    1127\n",
      "B005NF5NTK    1106\n",
      "B019PV2I3G    1033\n",
      "B00X5RV14Y    1018\n",
      "B00P7N0320    1011\n",
      "              ... \n",
      "B015C1G2L2       1\n",
      "B00PROITI4       1\n",
      "B00B37SR4U       1\n",
      "B01BW5EIKY       1\n",
      "B011JA4BKY       1\n",
      "Name: IC, Length: 48134, dtype: int64\n"
     ]
    }
   ],
   "source": [
    "print('data(IC) unique counts are ',data['IC'].nunique())\n",
    "print('\\n')\n",
    "print(data['IC'].value_counts())\n",
    "\n",
    "## total Item are 48134"
   ]
  },
  {
   "cell_type": "code",
   "execution_count": 17,
   "metadata": {},
   "outputs": [
    {
     "name": "stdout",
     "output_type": "stream",
     "text": [
      "Rating               0\n",
      "Rev_verify           0\n",
      "Review_Date          0\n",
      "IC                   0\n",
      "Prod_meta       352624\n",
      "Review             530\n",
      "Rev_summ           355\n",
      "Useful          698250\n",
      "Review_month         0\n",
      "Review_year          0\n",
      "dtype: int64\n",
      "AxesSubplot(0.125,0.125;0.62x0.755)\n"
     ]
    },
    {
     "data": {
      "image/png": "[encoded data removed]",
      "text/plain": [
       "<Figure size 432x288 with 2 Axes>"
      ]
     },
     "metadata": {
      "needs_background": "light"
     },
     "output_type": "display_data"
    }
   ],
   "source": [
    "# checking null values\n",
    "print(data.isnull().sum())\n",
    "print(sns.heatmap(data.isnull()))"
   ]
  },
  {
   "cell_type": "code",
   "execution_count": 18,
   "metadata": {},
   "outputs": [
    {
     "name": "stdout",
     "output_type": "stream",
     "text": [
      "                Rating  Rev_verify  Review_month  Review_year\n",
      "Rating        1.000000   -0.032027     -0.008038     0.037055\n",
      "Rev_verify   -0.032027    1.000000     -0.023987     0.074595\n",
      "Review_month -0.008038   -0.023987      1.000000    -0.211917\n",
      "Review_year   0.037055    0.074595     -0.211917     1.000000\n",
      "AxesSubplot(0.125,0.125;0.62x0.755)\n"
     ]
    },
    {
     "data": {
      "image/png": "[encoded data removed]",
      "text/plain": [
       "<Figure size 432x288 with 2 Axes>"
      ]
     },
     "metadata": {
      "needs_background": "light"
     },
     "output_type": "display_data"
    }
   ],
   "source": [
    "# checking the correleation in the dataset \n",
    "print(data.corr())\n",
    "print(sns.heatmap(data.corr()))"
   ]
  },
  {
   "cell_type": "code",
   "execution_count": 19,
   "metadata": {},
   "outputs": [],
   "source": [
    "# again drooping some columns from the dataset which are of no use anymore\n",
    "data.drop(['Prod_meta','Useful'],inplace=True,axis=1)"
   ]
  },
  {
   "cell_type": "code",
   "execution_count": 20,
   "metadata": {},
   "outputs": [
    {
     "data": {
      "text/html": [
       "<div>\n",
       "<style scoped>\n",
       "    .dataframe tbody tr th:only-of-type {\n",
       "        vertical-align: middle;\n",
       "    }\n",
       "\n",
       "    .dataframe tbody tr th {\n",
       "        vertical-align: top;\n",
       "    }\n",
       "\n",
       "    .dataframe thead th {\n",
       "        text-align: right;\n",
       "    }\n",
       "</style>\n",
       "<table border=\"1\" class=\"dataframe\">\n",
       "  <thead>\n",
       "    <tr style=\"text-align: right;\">\n",
       "      <th></th>\n",
       "      <th>Rating</th>\n",
       "      <th>Rev_verify</th>\n",
       "      <th>Review_Date</th>\n",
       "      <th>IC</th>\n",
       "      <th>Review</th>\n",
       "      <th>Rev_summ</th>\n",
       "      <th>Review_month</th>\n",
       "      <th>Review_year</th>\n",
       "    </tr>\n",
       "  </thead>\n",
       "  <tbody>\n",
       "    <tr>\n",
       "      <td>0</td>\n",
       "      <td>5</td>\n",
       "      <td>True</td>\n",
       "      <td>2015-09-01</td>\n",
       "      <td>B009XD5TPQ</td>\n",
       "      <td>Bought it for my husband. He's very happy with it</td>\n",
       "      <td>He's very happy with</td>\n",
       "      <td>9</td>\n",
       "      <td>2015</td>\n",
       "    </tr>\n",
       "    <tr>\n",
       "      <td>1</td>\n",
       "      <td>5</td>\n",
       "      <td>True</td>\n",
       "      <td>2016-01-09</td>\n",
       "      <td>B016MF3P3K</td>\n",
       "      <td>Great screen protector.  Doesn't even seem as ...</td>\n",
       "      <td>Five Stars</td>\n",
       "      <td>1</td>\n",
       "      <td>2016</td>\n",
       "    </tr>\n",
       "    <tr>\n",
       "      <td>2</td>\n",
       "      <td>5</td>\n",
       "      <td>True</td>\n",
       "      <td>2013-04-21</td>\n",
       "      <td>B008DC8N5G</td>\n",
       "      <td>Saved me lots of money! it's not gorilla glass...</td>\n",
       "      <td>As long as you know how to put it on!</td>\n",
       "      <td>4</td>\n",
       "      <td>2013</td>\n",
       "    </tr>\n",
       "    <tr>\n",
       "      <td>3</td>\n",
       "      <td>3</td>\n",
       "      <td>True</td>\n",
       "      <td>2013-02-27</td>\n",
       "      <td>B0089CH3TM</td>\n",
       "      <td>The material and fit is very nice, but the col...</td>\n",
       "      <td>Good case overall</td>\n",
       "      <td>2</td>\n",
       "      <td>2013</td>\n",
       "    </tr>\n",
       "    <tr>\n",
       "      <td>4</td>\n",
       "      <td>4</td>\n",
       "      <td>True</td>\n",
       "      <td>2013-12-19</td>\n",
       "      <td>B00AKZWGAC</td>\n",
       "      <td>This last me about 3 days till i have to charg...</td>\n",
       "      <td>Awesome Battery</td>\n",
       "      <td>12</td>\n",
       "      <td>2013</td>\n",
       "    </tr>\n",
       "  </tbody>\n",
       "</table>\n",
       "</div>"
      ],
      "text/plain": [
       "   Rating  Rev_verify Review_Date          IC  \\\n",
       "0       5        True  2015-09-01  B009XD5TPQ   \n",
       "1       5        True  2016-01-09  B016MF3P3K   \n",
       "2       5        True  2013-04-21  B008DC8N5G   \n",
       "3       3        True  2013-02-27  B0089CH3TM   \n",
       "4       4        True  2013-12-19  B00AKZWGAC   \n",
       "\n",
       "                                              Review  \\\n",
       "0  Bought it for my husband. He's very happy with it   \n",
       "1  Great screen protector.  Doesn't even seem as ...   \n",
       "2  Saved me lots of money! it's not gorilla glass...   \n",
       "3  The material and fit is very nice, but the col...   \n",
       "4  This last me about 3 days till i have to charg...   \n",
       "\n",
       "                                Rev_summ  Review_month  Review_year  \n",
       "0                   He's very happy with             9         2015  \n",
       "1                             Five Stars             1         2016  \n",
       "2  As long as you know how to put it on!             4         2013  \n",
       "3                      Good case overall             2         2013  \n",
       "4                        Awesome Battery            12         2013  "
      ]
     },
     "execution_count": 20,
     "metadata": {},
     "output_type": "execute_result"
    }
   ],
   "source": [
    "data.head()"
   ]
  },
  {
   "cell_type": "code",
   "execution_count": 21,
   "metadata": {},
   "outputs": [
    {
     "data": {
      "text/plain": [
       "<matplotlib.axes._subplots.AxesSubplot at 0x1e7549a8508>"
      ]
     },
     "execution_count": 21,
     "metadata": {},
     "output_type": "execute_result"
    },
    {
     "data": {
      "image/png": "[encoded data removed]",
      "text/plain": [
       "<Figure size 432x288 with 1 Axes>"
      ]
     },
     "metadata": {
      "needs_background": "light"
     },
     "output_type": "display_data"
    }
   ],
   "source": [
    "# mostly verified reviews are there \n",
    "sns.countplot(data['Rev_verify'])"
   ]
  },
  {
   "cell_type": "code",
   "execution_count": 22,
   "metadata": {},
   "outputs": [
    {
     "data": {
      "text/plain": [
       "<matplotlib.axes._subplots.AxesSubplot at 0x1e75498d488>"
      ]
     },
     "execution_count": 22,
     "metadata": {},
     "output_type": "execute_result"
    },
    {
     "data": {
      "image/png": "[encoded data removed]",
      "text/plain": [
       "<Figure size 432x288 with 1 Axes>"
      ]
     },
     "metadata": {
      "needs_background": "light"
     },
     "output_type": "display_data"
    }
   ],
   "source": [
    "# 5 star rating mostly given to the items\n",
    "sns.distplot(data['Rating'])"
   ]
  },
  {
   "cell_type": "code",
   "execution_count": 23,
   "metadata": {},
   "outputs": [
    {
     "data": {
      "text/plain": [
       "Rating            0\n",
       "Rev_verify        0\n",
       "Review_Date       0\n",
       "IC                0\n",
       "Review          530\n",
       "Rev_summ        355\n",
       "Review_month      0\n",
       "Review_year       0\n",
       "dtype: int64"
      ]
     },
     "execution_count": 23,
     "metadata": {},
     "output_type": "execute_result"
    }
   ],
   "source": [
    "# now checking the null values from the columns we are left with\n",
    "data.isnull().sum()"
   ]
  },
  {
   "cell_type": "code",
   "execution_count": 24,
   "metadata": {},
   "outputs": [
    {
     "name": "stdout",
     "output_type": "stream",
     "text": [
      "0    good\n",
      "dtype: object\n"
     ]
    }
   ],
   "source": [
    "# let us see which is the mostly reviewd comment done by the customers to the product\n",
    "print(data['Review'].mode())"
   ]
  },
  {
   "cell_type": "code",
   "execution_count": 25,
   "metadata": {},
   "outputs": [],
   "source": [
    "# drooping the rows where the null or nan values are present\n",
    "# drooping the rows won't effect the model much in terms of any trainnig because of large size of the dataset \n",
    "data.dropna(axis=0,inplace=True)"
   ]
  },
  {
   "cell_type": "code",
   "execution_count": 26,
   "metadata": {},
   "outputs": [
    {
     "data": {
      "text/plain": [
       "(759602, 8)"
      ]
     },
     "execution_count": 26,
     "metadata": {},
     "output_type": "execute_result"
    }
   ],
   "source": [
    "# checking the shape we are left with \n",
    "data.shape"
   ]
  },
  {
   "cell_type": "code",
   "execution_count": 27,
   "metadata": {},
   "outputs": [],
   "source": [
    "# we only need the reviews for the output (we need to extract the keywords from the reviews only) \n",
    "df=data[['IC','Review']]"
   ]
  },
  {
   "cell_type": "code",
   "execution_count": 28,
   "metadata": {},
   "outputs": [
    {
     "data": {
      "text/html": [
       "<div>\n",
       "<style scoped>\n",
       "    .dataframe tbody tr th:only-of-type {\n",
       "        vertical-align: middle;\n",
       "    }\n",
       "\n",
       "    .dataframe tbody tr th {\n",
       "        vertical-align: top;\n",
       "    }\n",
       "\n",
       "    .dataframe thead th {\n",
       "        text-align: right;\n",
       "    }\n",
       "</style>\n",
       "<table border=\"1\" class=\"dataframe\">\n",
       "  <thead>\n",
       "    <tr style=\"text-align: right;\">\n",
       "      <th></th>\n",
       "      <th>IC</th>\n",
       "      <th>Review</th>\n",
       "    </tr>\n",
       "  </thead>\n",
       "  <tbody>\n",
       "    <tr>\n",
       "      <td>0</td>\n",
       "      <td>B009XD5TPQ</td>\n",
       "      <td>Bought it for my husband. He's very happy with it</td>\n",
       "    </tr>\n",
       "    <tr>\n",
       "      <td>1</td>\n",
       "      <td>B016MF3P3K</td>\n",
       "      <td>Great screen protector.  Doesn't even seem as ...</td>\n",
       "    </tr>\n",
       "    <tr>\n",
       "      <td>2</td>\n",
       "      <td>B008DC8N5G</td>\n",
       "      <td>Saved me lots of money! it's not gorilla glass...</td>\n",
       "    </tr>\n",
       "    <tr>\n",
       "      <td>3</td>\n",
       "      <td>B0089CH3TM</td>\n",
       "      <td>The material and fit is very nice, but the col...</td>\n",
       "    </tr>\n",
       "    <tr>\n",
       "      <td>4</td>\n",
       "      <td>B00AKZWGAC</td>\n",
       "      <td>This last me about 3 days till i have to charg...</td>\n",
       "    </tr>\n",
       "  </tbody>\n",
       "</table>\n",
       "</div>"
      ],
      "text/plain": [
       "           IC                                             Review\n",
       "0  B009XD5TPQ  Bought it for my husband. He's very happy with it\n",
       "1  B016MF3P3K  Great screen protector.  Doesn't even seem as ...\n",
       "2  B008DC8N5G  Saved me lots of money! it's not gorilla glass...\n",
       "3  B0089CH3TM  The material and fit is very nice, but the col...\n",
       "4  B00AKZWGAC  This last me about 3 days till i have to charg..."
      ]
     },
     "execution_count": 28,
     "metadata": {},
     "output_type": "execute_result"
    }
   ],
   "source": [
    "df.head()"
   ]
  },
  {
   "cell_type": "code",
   "execution_count": 29,
   "metadata": {},
   "outputs": [],
   "source": [
    "# grouping the reviews by the item code in a single row so as to sort the features\n",
    "# by .agg(lambda x: ' '.join(x)) all the reviews will get joined  in a single row\n",
    "df=df['Review'].groupby(by=data['IC']).agg(lambda x: ' '.join(x))"
   ]
  },
  {
   "cell_type": "code",
   "execution_count": 30,
   "metadata": {},
   "outputs": [
    {
     "data": {
      "text/html": [
       "<div>\n",
       "<style scoped>\n",
       "    .dataframe tbody tr th:only-of-type {\n",
       "        vertical-align: middle;\n",
       "    }\n",
       "\n",
       "    .dataframe tbody tr th {\n",
       "        vertical-align: top;\n",
       "    }\n",
       "\n",
       "    .dataframe thead th {\n",
       "        text-align: right;\n",
       "    }\n",
       "</style>\n",
       "<table border=\"1\" class=\"dataframe\">\n",
       "  <thead>\n",
       "    <tr style=\"text-align: right;\">\n",
       "      <th></th>\n",
       "      <th>IC</th>\n",
       "      <th>Review</th>\n",
       "    </tr>\n",
       "  </thead>\n",
       "  <tbody>\n",
       "    <tr>\n",
       "      <td>0</td>\n",
       "      <td>7508492919</td>\n",
       "      <td>It is such a good case for a low price. I have...</td>\n",
       "    </tr>\n",
       "    <tr>\n",
       "      <td>1</td>\n",
       "      <td>7532385086</td>\n",
       "      <td>I was very excited when I first got this case....</td>\n",
       "    </tr>\n",
       "    <tr>\n",
       "      <td>2</td>\n",
       "      <td>7887421268</td>\n",
       "      <td>Good item Received this in about a weeks time....</td>\n",
       "    </tr>\n",
       "    <tr>\n",
       "      <td>3</td>\n",
       "      <td>8199900164</td>\n",
       "      <td>thank you. Works some of the time.  The charge...</td>\n",
       "    </tr>\n",
       "    <tr>\n",
       "      <td>4</td>\n",
       "      <td>8288853439</td>\n",
       "      <td>Great ! So far.\\nI had this charger before and...</td>\n",
       "    </tr>\n",
       "  </tbody>\n",
       "</table>\n",
       "</div>"
      ],
      "text/plain": [
       "           IC                                             Review\n",
       "0  7508492919  It is such a good case for a low price. I have...\n",
       "1  7532385086  I was very excited when I first got this case....\n",
       "2  7887421268  Good item Received this in about a weeks time....\n",
       "3  8199900164  thank you. Works some of the time.  The charge...\n",
       "4  8288853439  Great ! So far.\\nI had this charger before and..."
      ]
     },
     "execution_count": 30,
     "metadata": {},
     "output_type": "execute_result"
    }
   ],
   "source": [
    "# converting it into a dataframe and reset the index\n",
    "df=pd.DataFrame(df)\n",
    "df.reset_index(level=0, inplace=True)\n",
    "df.head()"
   ]
  },
  {
   "cell_type": "code",
   "execution_count": 31,
   "metadata": {},
   "outputs": [
    {
     "data": {
      "text/html": [
       "<div>\n",
       "<style scoped>\n",
       "    .dataframe tbody tr th:only-of-type {\n",
       "        vertical-align: middle;\n",
       "    }\n",
       "\n",
       "    .dataframe tbody tr th {\n",
       "        vertical-align: top;\n",
       "    }\n",
       "\n",
       "    .dataframe thead th {\n",
       "        text-align: right;\n",
       "    }\n",
       "</style>\n",
       "<table border=\"1\" class=\"dataframe\">\n",
       "  <thead>\n",
       "    <tr style=\"text-align: right;\">\n",
       "      <th></th>\n",
       "      <th>IC</th>\n",
       "      <th>Review</th>\n",
       "    </tr>\n",
       "  </thead>\n",
       "  <tbody>\n",
       "    <tr>\n",
       "      <td>48128</td>\n",
       "      <td>B01HJBS5C2</td>\n",
       "      <td>Strong, protective but slim and light. I am al...</td>\n",
       "    </tr>\n",
       "    <tr>\n",
       "      <td>48129</td>\n",
       "      <td>B01HJC7N4C</td>\n",
       "      <td>my sons likes it. For the price it isn't too b...</td>\n",
       "    </tr>\n",
       "    <tr>\n",
       "      <td>48130</td>\n",
       "      <td>B01HJCN1UC</td>\n",
       "      <td>great thanks good cable. just be sure to know ...</td>\n",
       "    </tr>\n",
       "    <tr>\n",
       "      <td>48131</td>\n",
       "      <td>B01HJCN55I</td>\n",
       "      <td>Received the cable in two days and it's the be...</td>\n",
       "    </tr>\n",
       "    <tr>\n",
       "      <td>48132</td>\n",
       "      <td>B01HJH9IN6</td>\n",
       "      <td>Just received it and it's VERY thin. No need t...</td>\n",
       "    </tr>\n",
       "  </tbody>\n",
       "</table>\n",
       "</div>"
      ],
      "text/plain": [
       "               IC                                             Review\n",
       "48128  B01HJBS5C2  Strong, protective but slim and light. I am al...\n",
       "48129  B01HJC7N4C  my sons likes it. For the price it isn't too b...\n",
       "48130  B01HJCN1UC  great thanks good cable. just be sure to know ...\n",
       "48131  B01HJCN55I  Received the cable in two days and it's the be...\n",
       "48132  B01HJH9IN6  Just received it and it's VERY thin. No need t..."
      ]
     },
     "execution_count": 31,
     "metadata": {},
     "output_type": "execute_result"
    }
   ],
   "source": [
    "df.tail()"
   ]
  },
  {
   "cell_type": "code",
   "execution_count": 32,
   "metadata": {},
   "outputs": [
    {
     "data": {
      "text/html": [
       "<div>\n",
       "<style scoped>\n",
       "    .dataframe tbody tr th:only-of-type {\n",
       "        vertical-align: middle;\n",
       "    }\n",
       "\n",
       "    .dataframe tbody tr th {\n",
       "        vertical-align: top;\n",
       "    }\n",
       "\n",
       "    .dataframe thead th {\n",
       "        text-align: right;\n",
       "    }\n",
       "</style>\n",
       "<table border=\"1\" class=\"dataframe\">\n",
       "  <thead>\n",
       "    <tr style=\"text-align: right;\">\n",
       "      <th></th>\n",
       "      <th>IC</th>\n",
       "      <th>Rating</th>\n",
       "    </tr>\n",
       "  </thead>\n",
       "  <tbody>\n",
       "    <tr>\n",
       "      <td>0</td>\n",
       "      <td>7508492919</td>\n",
       "      <td>5</td>\n",
       "    </tr>\n",
       "    <tr>\n",
       "      <td>1</td>\n",
       "      <td>7532385086</td>\n",
       "      <td>5</td>\n",
       "    </tr>\n",
       "    <tr>\n",
       "      <td>2</td>\n",
       "      <td>7887421268</td>\n",
       "      <td>5</td>\n",
       "    </tr>\n",
       "    <tr>\n",
       "      <td>3</td>\n",
       "      <td>8199900164</td>\n",
       "      <td>5</td>\n",
       "    </tr>\n",
       "    <tr>\n",
       "      <td>4</td>\n",
       "      <td>8288853439</td>\n",
       "      <td>5</td>\n",
       "    </tr>\n",
       "    <tr>\n",
       "      <td>5</td>\n",
       "      <td>8288862993</td>\n",
       "      <td>5</td>\n",
       "    </tr>\n",
       "    <tr>\n",
       "      <td>6</td>\n",
       "      <td>828886922X</td>\n",
       "      <td>5</td>\n",
       "    </tr>\n",
       "    <tr>\n",
       "      <td>7</td>\n",
       "      <td>8288878881</td>\n",
       "      <td>5</td>\n",
       "    </tr>\n",
       "    <tr>\n",
       "      <td>8</td>\n",
       "      <td>9578085451</td>\n",
       "      <td>5</td>\n",
       "    </tr>\n",
       "    <tr>\n",
       "      <td>9</td>\n",
       "      <td>961301375X</td>\n",
       "      <td>5</td>\n",
       "    </tr>\n",
       "  </tbody>\n",
       "</table>\n",
       "</div>"
      ],
      "text/plain": [
       "           IC  Rating\n",
       "0  7508492919       5\n",
       "1  7532385086       5\n",
       "2  7887421268       5\n",
       "3  8199900164       5\n",
       "4  8288853439       5\n",
       "5  8288862993       5\n",
       "6  828886922X       5\n",
       "7  8288878881       5\n",
       "8  9578085451       5\n",
       "9  961301375X       5"
      ]
     },
     "execution_count": 32,
     "metadata": {},
     "output_type": "execute_result"
    }
   ],
   "source": [
    "# now making another  dataframe containg the unique item code and the maximum rating given by any user to that item \n",
    "data_max=data[['IC','Rating']]\n",
    "\n",
    "# grouping the IC with max rating to that item\n",
    "data_max=data_max['Rating'].groupby(by=data_max['IC']).max()\n",
    "\n",
    "# making into a dataframe and reset index\n",
    "data_max=pd.DataFrame(data_max)\n",
    "data_max.reset_index(level=0, inplace=True)\n",
    "data_max.head(10)"
   ]
  },
  {
   "cell_type": "code",
   "execution_count": 33,
   "metadata": {},
   "outputs": [
    {
     "data": {
      "text/html": [
       "<div>\n",
       "<style scoped>\n",
       "    .dataframe tbody tr th:only-of-type {\n",
       "        vertical-align: middle;\n",
       "    }\n",
       "\n",
       "    .dataframe tbody tr th {\n",
       "        vertical-align: top;\n",
       "    }\n",
       "\n",
       "    .dataframe thead th {\n",
       "        text-align: right;\n",
       "    }\n",
       "</style>\n",
       "<table border=\"1\" class=\"dataframe\">\n",
       "  <thead>\n",
       "    <tr style=\"text-align: right;\">\n",
       "      <th></th>\n",
       "      <th>IC</th>\n",
       "      <th>Rating</th>\n",
       "    </tr>\n",
       "  </thead>\n",
       "  <tbody>\n",
       "    <tr>\n",
       "      <td>0</td>\n",
       "      <td>7508492919</td>\n",
       "      <td>1</td>\n",
       "    </tr>\n",
       "    <tr>\n",
       "      <td>1</td>\n",
       "      <td>7532385086</td>\n",
       "      <td>1</td>\n",
       "    </tr>\n",
       "    <tr>\n",
       "      <td>2</td>\n",
       "      <td>7887421268</td>\n",
       "      <td>1</td>\n",
       "    </tr>\n",
       "    <tr>\n",
       "      <td>3</td>\n",
       "      <td>8199900164</td>\n",
       "      <td>2</td>\n",
       "    </tr>\n",
       "    <tr>\n",
       "      <td>4</td>\n",
       "      <td>8288853439</td>\n",
       "      <td>1</td>\n",
       "    </tr>\n",
       "    <tr>\n",
       "      <td>5</td>\n",
       "      <td>8288862993</td>\n",
       "      <td>1</td>\n",
       "    </tr>\n",
       "    <tr>\n",
       "      <td>6</td>\n",
       "      <td>828886922X</td>\n",
       "      <td>3</td>\n",
       "    </tr>\n",
       "    <tr>\n",
       "      <td>7</td>\n",
       "      <td>8288878881</td>\n",
       "      <td>1</td>\n",
       "    </tr>\n",
       "    <tr>\n",
       "      <td>8</td>\n",
       "      <td>9578085451</td>\n",
       "      <td>3</td>\n",
       "    </tr>\n",
       "    <tr>\n",
       "      <td>9</td>\n",
       "      <td>961301375X</td>\n",
       "      <td>1</td>\n",
       "    </tr>\n",
       "  </tbody>\n",
       "</table>\n",
       "</div>"
      ],
      "text/plain": [
       "           IC  Rating\n",
       "0  7508492919       1\n",
       "1  7532385086       1\n",
       "2  7887421268       1\n",
       "3  8199900164       2\n",
       "4  8288853439       1\n",
       "5  8288862993       1\n",
       "6  828886922X       3\n",
       "7  8288878881       1\n",
       "8  9578085451       3\n",
       "9  961301375X       1"
      ]
     },
     "execution_count": 33,
     "metadata": {},
     "output_type": "execute_result"
    }
   ],
   "source": [
    "# now making another  dataframe containg the unique item code and the minimum rating given by any user to that item \n",
    "data_min=data[['IC','Rating']]\n",
    "\n",
    "# grouping the IC with min rating to that item\n",
    "data_min=data_min['Rating'].groupby(by=data_min['IC']).min()\n",
    "\n",
    "# making into a dataframe and reset index\n",
    "data_min=pd.DataFrame(data_min)\n",
    "data_min.reset_index(level=0, inplace=True)\n",
    "data_min.head(10)"
   ]
  },
  {
   "cell_type": "code",
   "execution_count": 34,
   "metadata": {},
   "outputs": [
    {
     "data": {
      "text/html": [
       "<div>\n",
       "<style scoped>\n",
       "    .dataframe tbody tr th:only-of-type {\n",
       "        vertical-align: middle;\n",
       "    }\n",
       "\n",
       "    .dataframe tbody tr th {\n",
       "        vertical-align: top;\n",
       "    }\n",
       "\n",
       "    .dataframe thead th {\n",
       "        text-align: right;\n",
       "    }\n",
       "</style>\n",
       "<table border=\"1\" class=\"dataframe\">\n",
       "  <thead>\n",
       "    <tr style=\"text-align: right;\">\n",
       "      <th></th>\n",
       "      <th>IC</th>\n",
       "      <th>Rating</th>\n",
       "    </tr>\n",
       "  </thead>\n",
       "  <tbody>\n",
       "    <tr>\n",
       "      <td>0</td>\n",
       "      <td>7508492919</td>\n",
       "      <td>4.300000</td>\n",
       "    </tr>\n",
       "    <tr>\n",
       "      <td>1</td>\n",
       "      <td>7532385086</td>\n",
       "      <td>3.285714</td>\n",
       "    </tr>\n",
       "    <tr>\n",
       "      <td>2</td>\n",
       "      <td>7887421268</td>\n",
       "      <td>3.538462</td>\n",
       "    </tr>\n",
       "    <tr>\n",
       "      <td>3</td>\n",
       "      <td>8199900164</td>\n",
       "      <td>3.750000</td>\n",
       "    </tr>\n",
       "    <tr>\n",
       "      <td>4</td>\n",
       "      <td>8288853439</td>\n",
       "      <td>3.818182</td>\n",
       "    </tr>\n",
       "    <tr>\n",
       "      <td>5</td>\n",
       "      <td>8288862993</td>\n",
       "      <td>3.656250</td>\n",
       "    </tr>\n",
       "    <tr>\n",
       "      <td>6</td>\n",
       "      <td>828886922X</td>\n",
       "      <td>4.333333</td>\n",
       "    </tr>\n",
       "    <tr>\n",
       "      <td>7</td>\n",
       "      <td>8288878881</td>\n",
       "      <td>3.977273</td>\n",
       "    </tr>\n",
       "    <tr>\n",
       "      <td>8</td>\n",
       "      <td>9578085451</td>\n",
       "      <td>4.250000</td>\n",
       "    </tr>\n",
       "    <tr>\n",
       "      <td>9</td>\n",
       "      <td>961301375X</td>\n",
       "      <td>3.923077</td>\n",
       "    </tr>\n",
       "  </tbody>\n",
       "</table>\n",
       "</div>"
      ],
      "text/plain": [
       "           IC    Rating\n",
       "0  7508492919  4.300000\n",
       "1  7532385086  3.285714\n",
       "2  7887421268  3.538462\n",
       "3  8199900164  3.750000\n",
       "4  8288853439  3.818182\n",
       "5  8288862993  3.656250\n",
       "6  828886922X  4.333333\n",
       "7  8288878881  3.977273\n",
       "8  9578085451  4.250000\n",
       "9  961301375X  3.923077"
      ]
     },
     "execution_count": 34,
     "metadata": {},
     "output_type": "execute_result"
    }
   ],
   "source": [
    "# now making another  dataframe containg the unique item code and the mean/average rating given by any user to that item \n",
    "data_mean=data[['IC','Rating']]\n",
    "\n",
    "# grouping the IC with mean rating to that item\n",
    "data_mean=data_mean['Rating'].groupby(by=data_mean['IC']).mean()\n",
    "data_mean=pd.DataFrame(data_mean)\n",
    "\n",
    "# making into a dataframe and reset index\n",
    "data_mean.reset_index(level=0, inplace=True)\n",
    "data_mean.head(10)"
   ]
  },
  {
   "cell_type": "code",
   "execution_count": 35,
   "metadata": {},
   "outputs": [],
   "source": [
    "# cleaning the review coloumn:\n",
    "# lemmatizing, splitting, removing stopwords , punctutation and taking most occuring words (>3)\n",
    "\n",
    "# defining a function for all that process\n",
    "def lemmatize_stemming(text):\n",
    "    return stemmer.stem(WordNetLemmatizer().lemmatize(text,pos='v'))\n",
    "\n",
    "#Tokenize and Lemmatize\n",
    "stemmer=SnowballStemmer('english')\n",
    "def preprocess(text):\n",
    "    result=[]\n",
    "    for token in gensim.utils.simple_preprocess(text):\n",
    "        if token not in gensim.parsing.preprocessing.STOPWORDS and len(token)>3:\n",
    "            result.append(lemmatize_stemming(token))\n",
    "            \n",
    "    return result"
   ]
  },
  {
   "cell_type": "code",
   "execution_count": 36,
   "metadata": {},
   "outputs": [],
   "source": [
    "# applying the function to the review column and saving in into a new column as review_cleaned :\n",
    "\n",
    "df['review_cleaned']=df['Review'].apply(preprocess)"
   ]
  },
  {
   "cell_type": "code",
   "execution_count": 37,
   "metadata": {},
   "outputs": [
    {
     "data": {
      "text/html": [
       "<div>\n",
       "<style scoped>\n",
       "    .dataframe tbody tr th:only-of-type {\n",
       "        vertical-align: middle;\n",
       "    }\n",
       "\n",
       "    .dataframe tbody tr th {\n",
       "        vertical-align: top;\n",
       "    }\n",
       "\n",
       "    .dataframe thead th {\n",
       "        text-align: right;\n",
       "    }\n",
       "</style>\n",
       "<table border=\"1\" class=\"dataframe\">\n",
       "  <thead>\n",
       "    <tr style=\"text-align: right;\">\n",
       "      <th></th>\n",
       "      <th>IC</th>\n",
       "      <th>Review</th>\n",
       "      <th>review_cleaned</th>\n",
       "    </tr>\n",
       "  </thead>\n",
       "  <tbody>\n",
       "    <tr>\n",
       "      <td>0</td>\n",
       "      <td>7508492919</td>\n",
       "      <td>It is such a good case for a low price. I have...</td>\n",
       "      <td>[good, case, price, right, problem, lose, ston...</td>\n",
       "    </tr>\n",
       "    <tr>\n",
       "      <td>1</td>\n",
       "      <td>7532385086</td>\n",
       "      <td>I was very excited when I first got this case....</td>\n",
       "      <td>[excit, case, love, color, feel, start, notic,...</td>\n",
       "    </tr>\n",
       "    <tr>\n",
       "      <td>2</td>\n",
       "      <td>7887421268</td>\n",
       "      <td>Good item Received this in about a weeks time....</td>\n",
       "      <td>[good, item, receiv, week, time, nice, actual,...</td>\n",
       "    </tr>\n",
       "    <tr>\n",
       "      <td>3</td>\n",
       "      <td>8199900164</td>\n",
       "      <td>thank you. Works some of the time.  The charge...</td>\n",
       "      <td>[thank, work, time, charger, stop, work, day, ...</td>\n",
       "    </tr>\n",
       "    <tr>\n",
       "      <td>4</td>\n",
       "      <td>8288853439</td>\n",
       "      <td>Great ! So far.\\nI had this charger before and...</td>\n",
       "      <td>[great, charger, pretti, good, year, fit, phon...</td>\n",
       "    </tr>\n",
       "  </tbody>\n",
       "</table>\n",
       "</div>"
      ],
      "text/plain": [
       "           IC                                             Review  \\\n",
       "0  7508492919  It is such a good case for a low price. I have...   \n",
       "1  7532385086  I was very excited when I first got this case....   \n",
       "2  7887421268  Good item Received this in about a weeks time....   \n",
       "3  8199900164  thank you. Works some of the time.  The charge...   \n",
       "4  8288853439  Great ! So far.\\nI had this charger before and...   \n",
       "\n",
       "                                      review_cleaned  \n",
       "0  [good, case, price, right, problem, lose, ston...  \n",
       "1  [excit, case, love, color, feel, start, notic,...  \n",
       "2  [good, item, receiv, week, time, nice, actual,...  \n",
       "3  [thank, work, time, charger, stop, work, day, ...  \n",
       "4  [great, charger, pretti, good, year, fit, phon...  "
      ]
     },
     "execution_count": 37,
     "metadata": {},
     "output_type": "execute_result"
    }
   ],
   "source": [
    "df.head()"
   ]
  },
  {
   "cell_type": "code",
   "execution_count": 38,
   "metadata": {},
   "outputs": [],
   "source": [
    "# now merging all the maximum rating (from data_max), min rating(data_min) , average rating(data_mean) and all reviews to that IC\n",
    "# into a single dataframe \"\" df \"\"\n",
    "\n",
    "df['maximum_rating']=data_max['Rating']\n",
    "df['minimum_rating']=data_min['Rating']\n",
    "df['average_rating']=data_mean['Rating']"
   ]
  },
  {
   "cell_type": "code",
   "execution_count": 39,
   "metadata": {},
   "outputs": [],
   "source": [
    "## function for finding the keywords from all the reviws of a particular item \n",
    "\n",
    "\n",
    "import nltk\n",
    "def freq_words(text, terms = 18):\n",
    "  # prepare a dictionary of word-frequency pairs\n",
    "    fdist = nltk.FreqDist(text)\n",
    "    words_df = pd.DataFrame({'word':list(fdist.keys()), 'count':list(fdist.values())})\n",
    "    d = words_df.nlargest(columns=\"count\", n = terms)\n",
    "    frequent_words=[]\n",
    "    for word in d['word']:\n",
    "        frequent_words.append(word)\n",
    "    return frequent_words\n"
   ]
  },
  {
   "cell_type": "code",
   "execution_count": 40,
   "metadata": {
    "scrolled": true
   },
   "outputs": [
    {
     "data": {
      "text/plain": [
       "'It is such a good case for a low price. I have it on right now and never had any problems with it besides losing about 2 stones since my purchase because I\\'m rough with it. I recommend it. I didn\\'t get the same case that\\'s shown in the picture. The case I got had a black and gold bow. Its still cute but not what I wanted. I wanted what was in the picture. My teenage daughter LOVED this case.  It is really pretty.\\n\\nI only put 4 stars because it does look a little cheap looking, but what do you expect with this much bling. ;o) When you don\\'t want to spend a whole lot of cash but want a great deal...this is the shop to buy from! I liked it because it was cute, but the studs fall off easily and to protect a phone this would not be recommended. Buy if you just like it for looks. It\\'s very cute and the stones lasted a long time!  It really makes your phone look a lot more prettier and funnier. the hirl that wants and needs Hello Kitty products\\nWas so happy that she has a collection to choose from\\nall her friends wants hello kitty phone cases to\\nthanks seller so cute love this...one drop and its done though...i dropped iton the bathroom floor and it cracked. other then that item is very cute this case is so cute it looks good on my white iphone its pretty good quality only one diamond has fallen off and its cos i dropped it on the cement. its kinda hard to get off but whatever its so cute and hot and everyone compliments me on it Happy it This case is very pretty.  It is very girly looking.  The only problem is it will be hard to put the case in a jeans pocket because the bow does stick out.  It would not be a problem for me as I carry mine in my purse, but my daughters put their phones in their pockets.  Shipping was as described. Cute case. Jewels do come off but what do you expect. Mine has held up pretty nicely and lost a few stones but is barely noticeable. Got this for a friend who saw this and liked it. i got it for her, and she liked it. looks good on your iphone and fits well too it is a beautiful phone case but its also hard to remove & also it the 3d ribbon came wasy darker than the picture shows & it also came wonky but its pretty It looks like I actually bedazzled my phone.  The case is better than what I expected ... it is so cute.  Yes, I would recommend this case. this is the most cutest case i\\'ve ever bought from here , i just got it today .. it took a really long time,which is weird cause it took almost two months. but i didn\\'t care. i thought that it was gonna fall apart. but it didn\\'t it really held up nicely. & i am thinking about ordering the other ones that come in pink & black. these are really classy & rich looking for only 2 bucks you can not go wrong. its so girly,even though i don\\'t like too much stuff going on,on my cases. this i perfect, i haven\\'t tried fitting it in my pocket but i will  sooo. you should definatley buy this. It is so cute!  Love the bling and love the pink!  It is such a cute case and I get many compliments. This case is soo super pretty! This case may look very breakable but it is very sturdy. It is super cute, the case looks cuter in real life than the picture. SO WHAT ARE YOU WAITING FOR?? GET IT!!! For the price i received a pretty great case! I received many compliments on how cute it was! the bow on the back looked like it might fall out but i have had it for 6 months and nope, its strongly attached! the diamonds in the back amazed me how long they stayed attached and only like 3 have fallen off, not too bad. it fits nicely on my phone. but i don\\'t recommend dropping your phone because it doesn\\'t give you protection from impacts! its more like a \"look at my pretty phone\" kind of case. Unfortunately i had to replace my case because due to my crazy lifestyle (throwing my phone in bags and pockets) the plastic by the volume buttons started to break off. But i will definitely buy another one to put on my iPhone on special occasions only! love it!!!!!\\nits gorgeous\\narrived on time i get many compliments on it\\nits definitely a girly case which i love Beautiful quality and outstanding product! Everyone compliments me on the case and thinks I spent wayy wayy more than I really did :) I love this case. I have plenty of cases but this is 1 of my favs.. I kept this case on longer than any case I have. Sum of the stones fall off but they give u extra. Once I ran out of extras I changed da case.... Lol Another great product that my daughter she use it for a long time but now she has the iPhone 5c. Transaction went well and fast. This case was an extremely great deal. The color and design was perfect. This is a great going out on the town case. crystals fell off as nothing :( that\\'s why I really didn\\'t like it but as soon as I saw it I liked it but the stones Can not argue with the price or appearance. Looks just like the picture with the exception that it is not white. The jewels do fall off rather easily. soooo cute! I got many complaints when I had this cover.  I took the gems off at the bottom of the case since texting made it hard.  After awhile, the gems started to peel off..but it still looked cute! I have used this case for a couple weeks & so far its been great!  All the little blings have stayed in place.  Very sparkly & cute. The product is recommended for anyone looking to use it or gift it to one of your family members. Thanks here is another I love as well!!!, I am so happy with my phone cover,, I get so many compliments from other females!!!! but it is my phone that wears it!!!! I used this case for not even a week and the bow came off. I loved it so pretty, but wish it would of stayed together. I really love this case... you have to keep your phone face down all the time, but it\\'s pretty good quality. Some stones come off from normal use, unless you keep it in your purse all day. gotten so many compliments, its so beautiful and simple. i\\'ve had it for 3 months now and it still looks brand new It was a great deal,, I would keep buying !!!!!!!\\nIt was worth the wait\\nHappy happy happy happy happy Very cheap broke the first time we put it on :( It was pretty but very cheaply made!! Too bad as it is cute so the case came on time, i love the design. I\\'m actually missing 2 studs but nothing too noticeable the studding is almost a bit sloppy around the bow, but once again not too noticeable. I haven\\'t put in my phone yet so this is just what I\\'ve notice so far THIS IS A VERY PRETTY 4S CELL PHONE CASE ANS IT IS 3D AND VERY PRETTY, THANK YOU FROM RENE I ordered this case for my daughter for Christmas because she got an IPhone for Christmas and I wanted her to have a really nice phone case that was different because EVERYBODY has the same IPhone cases. SHE LOVED THIS PHONE CASE FROM THE MOMENT SHE OPENED THE PACKAGE!! I loved the fact that this case came a few days earlier than expected and THE PRICE WAS AMAZING for a really cute 3D IPhone case too. I purchased this for my grand-daughters phone. She loves it and it is so unique. The quality of the cover is very good. really pretty! ive had a couple gems come off, but it comes with glue, so its easily fixable. i like it'"
      ]
     },
     "execution_count": 40,
     "metadata": {},
     "output_type": "execute_result"
    }
   ],
   "source": [
    "# let us analyze the review column i.e all ther review of the first item code \n",
    "df['Review'][0]"
   ]
  },
  {
   "cell_type": "code",
   "execution_count": 41,
   "metadata": {},
   "outputs": [
    {
     "data": {
      "image/png": "[encoded data removed]",
      "text/plain": [
       "<Figure size 504x504 with 1 Axes>"
      ]
     },
     "metadata": {},
     "output_type": "display_data"
    }
   ],
   "source": [
    "\n",
    "#Getting sense of loud words before cleaning of the review column\n",
    "from wordcloud import WordCloud\n",
    "\n",
    "\n",
    "review = df['Review']\n",
    "\n",
    "review_cloud = WordCloud(width=700,height=500,background_color='white',max_words=50).generate(' '.join(review))\n",
    "\n",
    "plt.figure(figsize=(7,7),facecolor='r')\n",
    "plt.imshow(review_cloud)\n",
    "plt.axis('off')\n",
    "plt.tight_layout(pad=0)\n",
    "plt.show()"
   ]
  },
  {
   "cell_type": "code",
   "execution_count": 42,
   "metadata": {},
   "outputs": [
    {
     "data": {
      "text/plain": [
       "['good',\n",
       " 'case',\n",
       " 'price',\n",
       " 'right',\n",
       " 'problem',\n",
       " 'lose',\n",
       " 'stone',\n",
       " 'purchas',\n",
       " 'rough',\n",
       " 'recommend',\n",
       " 'case',\n",
       " 'show',\n",
       " 'pictur',\n",
       " 'case',\n",
       " 'black',\n",
       " 'gold',\n",
       " 'cute',\n",
       " 'want',\n",
       " 'want',\n",
       " 'pictur',\n",
       " 'teenag',\n",
       " 'daughter',\n",
       " 'love',\n",
       " 'case',\n",
       " 'pretti',\n",
       " 'star',\n",
       " 'look',\n",
       " 'littl',\n",
       " 'cheap',\n",
       " 'look',\n",
       " 'expect',\n",
       " 'bling',\n",
       " 'want',\n",
       " 'spend',\n",
       " 'cash',\n",
       " 'want',\n",
       " 'great',\n",
       " 'deal',\n",
       " 'shop',\n",
       " 'like',\n",
       " 'cute',\n",
       " 'stud',\n",
       " 'fall',\n",
       " 'easili',\n",
       " 'protect',\n",
       " 'phone',\n",
       " 'recommend',\n",
       " 'like',\n",
       " 'look',\n",
       " 'cute',\n",
       " 'stone',\n",
       " 'last',\n",
       " 'long',\n",
       " 'time',\n",
       " 'make',\n",
       " 'phone',\n",
       " 'look',\n",
       " 'prettier',\n",
       " 'funnier',\n",
       " 'hirl',\n",
       " 'want',\n",
       " 'need',\n",
       " 'hello',\n",
       " 'kitti',\n",
       " 'product',\n",
       " 'happi',\n",
       " 'collect',\n",
       " 'choos',\n",
       " 'friend',\n",
       " 'want',\n",
       " 'hello',\n",
       " 'kitti',\n",
       " 'phone',\n",
       " 'case',\n",
       " 'thank',\n",
       " 'seller',\n",
       " 'cute',\n",
       " 'love',\n",
       " 'drop',\n",
       " 'drop',\n",
       " 'iton',\n",
       " 'bathroom',\n",
       " 'floor',\n",
       " 'crack',\n",
       " 'item',\n",
       " 'cute',\n",
       " 'case',\n",
       " 'cute',\n",
       " 'look',\n",
       " 'good',\n",
       " 'white',\n",
       " 'iphon',\n",
       " 'pretti',\n",
       " 'good',\n",
       " 'qualiti',\n",
       " 'diamond',\n",
       " 'fall',\n",
       " 'drop',\n",
       " 'cement',\n",
       " 'kinda',\n",
       " 'hard',\n",
       " 'cute',\n",
       " 'compliment',\n",
       " 'happi',\n",
       " 'case',\n",
       " 'pretti',\n",
       " 'gir',\n",
       " 'look',\n",
       " 'problem',\n",
       " 'hard',\n",
       " 'case',\n",
       " 'jean',\n",
       " 'pocket',\n",
       " 'stick',\n",
       " 'problem',\n",
       " 'carri',\n",
       " 'purs',\n",
       " 'daughter',\n",
       " 'phone',\n",
       " 'pocket',\n",
       " 'ship',\n",
       " 'describ',\n",
       " 'cute',\n",
       " 'case',\n",
       " 'jewel',\n",
       " 'come',\n",
       " 'expect',\n",
       " 'hold',\n",
       " 'pretti',\n",
       " 'nice',\n",
       " 'lose',\n",
       " 'stone',\n",
       " 'bare',\n",
       " 'notic',\n",
       " 'friend',\n",
       " 'like',\n",
       " 'like',\n",
       " 'look',\n",
       " 'good',\n",
       " 'iphon',\n",
       " 'fit',\n",
       " 'beauti',\n",
       " 'phone',\n",
       " 'case',\n",
       " 'hard',\n",
       " 'remov',\n",
       " 'ribbon',\n",
       " 'come',\n",
       " 'wasi',\n",
       " 'darker',\n",
       " 'pictur',\n",
       " 'show',\n",
       " 'come',\n",
       " 'wonki',\n",
       " 'pretti',\n",
       " 'look',\n",
       " 'like',\n",
       " 'actual',\n",
       " 'bedazzl',\n",
       " 'phone',\n",
       " 'case',\n",
       " 'better',\n",
       " 'expect',\n",
       " 'cute',\n",
       " 'recommend',\n",
       " 'case',\n",
       " 'cutest',\n",
       " 'case',\n",
       " 'buy',\n",
       " 'today',\n",
       " 'take',\n",
       " 'long',\n",
       " 'time',\n",
       " 'weird',\n",
       " 'caus',\n",
       " 'take',\n",
       " 'month',\n",
       " 'care',\n",
       " 'think',\n",
       " 'gonna',\n",
       " 'fall',\n",
       " 'apart',\n",
       " 'hold',\n",
       " 'nice',\n",
       " 'think',\n",
       " 'order',\n",
       " 'one',\n",
       " 'come',\n",
       " 'pink',\n",
       " 'black',\n",
       " 'classi',\n",
       " 'rich',\n",
       " 'look',\n",
       " 'buck',\n",
       " 'wrong',\n",
       " 'gir',\n",
       " 'like',\n",
       " 'stuff',\n",
       " 'go',\n",
       " 'case',\n",
       " 'perfect',\n",
       " 'haven',\n",
       " 'tri',\n",
       " 'fit',\n",
       " 'pocket',\n",
       " 'sooo',\n",
       " 'definatley',\n",
       " 'cute',\n",
       " 'love',\n",
       " 'bling',\n",
       " 'love',\n",
       " 'pink',\n",
       " 'cute',\n",
       " 'case',\n",
       " 'compliment',\n",
       " 'case',\n",
       " 'super',\n",
       " 'pretti',\n",
       " 'case',\n",
       " 'look',\n",
       " 'breakabl',\n",
       " 'sturdi',\n",
       " 'super',\n",
       " 'cute',\n",
       " 'case',\n",
       " 'look',\n",
       " 'cuter',\n",
       " 'real',\n",
       " 'life',\n",
       " 'pictur',\n",
       " 'wait',\n",
       " 'price',\n",
       " 'receiv',\n",
       " 'pretti',\n",
       " 'great',\n",
       " 'case',\n",
       " 'receiv',\n",
       " 'compliment',\n",
       " 'cute',\n",
       " 'look',\n",
       " 'like',\n",
       " 'fall',\n",
       " 'month',\n",
       " 'nope',\n",
       " 'strong',\n",
       " 'attach',\n",
       " 'diamond',\n",
       " 'amaz',\n",
       " 'long',\n",
       " 'stay',\n",
       " 'attach',\n",
       " 'like',\n",
       " 'fall',\n",
       " 'fit',\n",
       " 'nice',\n",
       " 'phone',\n",
       " 'recommend',\n",
       " 'drop',\n",
       " 'phone',\n",
       " 'protect',\n",
       " 'impact',\n",
       " 'like',\n",
       " 'look',\n",
       " 'pretti',\n",
       " 'phone',\n",
       " 'kind',\n",
       " 'case',\n",
       " 'unfortun',\n",
       " 'replac',\n",
       " 'case',\n",
       " 'crazi',\n",
       " 'lifestyl',\n",
       " 'throw',\n",
       " 'phone',\n",
       " 'bag',\n",
       " 'pocket',\n",
       " 'plastic',\n",
       " 'volum',\n",
       " 'button',\n",
       " 'start',\n",
       " 'break',\n",
       " 'definit',\n",
       " 'iphon',\n",
       " 'special',\n",
       " 'occas',\n",
       " 'love',\n",
       " 'gorgeous',\n",
       " 'arriv',\n",
       " 'time',\n",
       " 'compliment',\n",
       " 'definit',\n",
       " 'gir',\n",
       " 'case',\n",
       " 'love',\n",
       " 'beauti',\n",
       " 'qualiti',\n",
       " 'outstand',\n",
       " 'product',\n",
       " 'compliment',\n",
       " 'case',\n",
       " 'think',\n",
       " 'spend',\n",
       " 'wayi',\n",
       " 'wayi',\n",
       " 'love',\n",
       " 'case',\n",
       " 'plenti',\n",
       " 'case',\n",
       " 'fav',\n",
       " 'keep',\n",
       " 'case',\n",
       " 'longer',\n",
       " 'case',\n",
       " 'stone',\n",
       " 'fall',\n",
       " 'extra',\n",
       " 'extra',\n",
       " 'chang',\n",
       " 'case',\n",
       " 'great',\n",
       " 'product',\n",
       " 'daughter',\n",
       " 'long',\n",
       " 'time',\n",
       " 'iphon',\n",
       " 'transact',\n",
       " 'go',\n",
       " 'fast',\n",
       " 'case',\n",
       " 'extrem',\n",
       " 'great',\n",
       " 'deal',\n",
       " 'color',\n",
       " 'design',\n",
       " 'perfect',\n",
       " 'great',\n",
       " 'go',\n",
       " 'town',\n",
       " 'case',\n",
       " 'crystal',\n",
       " 'fell',\n",
       " 'like',\n",
       " 'soon',\n",
       " 'like',\n",
       " 'stone',\n",
       " 'argu',\n",
       " 'price',\n",
       " 'appear',\n",
       " 'look',\n",
       " 'like',\n",
       " 'pictur',\n",
       " 'except',\n",
       " 'white',\n",
       " 'jewel',\n",
       " 'fall',\n",
       " 'easili',\n",
       " 'soooo',\n",
       " 'cute',\n",
       " 'complaint',\n",
       " 'cover',\n",
       " 'take',\n",
       " 'gem',\n",
       " 'case',\n",
       " 'text',\n",
       " 'hard',\n",
       " 'awhil',\n",
       " 'gem',\n",
       " 'start',\n",
       " 'peel',\n",
       " 'look',\n",
       " 'cute',\n",
       " 'case',\n",
       " 'coupl',\n",
       " 'week',\n",
       " 'great',\n",
       " 'littl',\n",
       " 'bling',\n",
       " 'stay',\n",
       " 'place',\n",
       " 'spark',\n",
       " 'cute',\n",
       " 'product',\n",
       " 'recommend',\n",
       " 'look',\n",
       " 'gift',\n",
       " 'famili',\n",
       " 'member',\n",
       " 'thank',\n",
       " 'love',\n",
       " 'happi',\n",
       " 'phone',\n",
       " 'cover',\n",
       " 'compliment',\n",
       " 'femal',\n",
       " 'phone',\n",
       " 'wear',\n",
       " 'case',\n",
       " 'week',\n",
       " 'come',\n",
       " 'love',\n",
       " 'pretti',\n",
       " 'wish',\n",
       " 'stay',\n",
       " 'love',\n",
       " 'case',\n",
       " 'phone',\n",
       " 'face',\n",
       " 'time',\n",
       " 'pretti',\n",
       " 'good',\n",
       " 'qualiti',\n",
       " 'stone',\n",
       " 'come',\n",
       " 'normal',\n",
       " 'purs',\n",
       " 'get',\n",
       " 'compliment',\n",
       " 'beauti',\n",
       " 'simpl',\n",
       " 'month',\n",
       " 'look',\n",
       " 'brand',\n",
       " 'great',\n",
       " 'deal',\n",
       " 'buy',\n",
       " 'worth',\n",
       " 'wait',\n",
       " 'happi',\n",
       " 'happi',\n",
       " 'happi',\n",
       " 'happi',\n",
       " 'happi',\n",
       " 'cheap',\n",
       " 'break',\n",
       " 'time',\n",
       " 'pretti',\n",
       " 'cheapli',\n",
       " 'cute',\n",
       " 'case',\n",
       " 'come',\n",
       " 'time',\n",
       " 'love',\n",
       " 'design',\n",
       " 'actual',\n",
       " 'miss',\n",
       " 'stud',\n",
       " 'notic',\n",
       " 'stud',\n",
       " 'sloppi',\n",
       " 'notic',\n",
       " 'haven',\n",
       " 'phone',\n",
       " 'notic',\n",
       " 'pretti',\n",
       " 'cell',\n",
       " 'phone',\n",
       " 'case',\n",
       " 'pretti',\n",
       " 'thank',\n",
       " 'rene',\n",
       " 'order',\n",
       " 'case',\n",
       " 'daughter',\n",
       " 'christma',\n",
       " 'iphon',\n",
       " 'christma',\n",
       " 'want',\n",
       " 'nice',\n",
       " 'phone',\n",
       " 'case',\n",
       " 'differ',\n",
       " 'everybodi',\n",
       " 'iphon',\n",
       " 'case',\n",
       " 'love',\n",
       " 'phone',\n",
       " 'case',\n",
       " 'moment',\n",
       " 'open',\n",
       " 'packag',\n",
       " 'love',\n",
       " 'fact',\n",
       " 'case',\n",
       " 'come',\n",
       " 'day',\n",
       " 'earlier',\n",
       " 'expect',\n",
       " 'price',\n",
       " 'amaz',\n",
       " 'cute',\n",
       " 'iphon',\n",
       " 'case',\n",
       " 'purchas',\n",
       " 'grand',\n",
       " 'daughter',\n",
       " 'phone',\n",
       " 'love',\n",
       " 'uniqu',\n",
       " 'qualiti',\n",
       " 'cover',\n",
       " 'good',\n",
       " 'pretti',\n",
       " 'coupl',\n",
       " 'gem',\n",
       " 'come',\n",
       " 'come',\n",
       " 'glue',\n",
       " 'easili',\n",
       " 'fixabl',\n",
       " 'like']"
      ]
     },
     "execution_count": 42,
     "metadata": {},
     "output_type": "execute_result"
    }
   ],
   "source": [
    "# let us analyze the review column after cleaned  i.e all ther review of the first item code \n",
    "df['review_cleaned'][0]"
   ]
  },
  {
   "cell_type": "code",
   "execution_count": 43,
   "metadata": {},
   "outputs": [
    {
     "data": {
      "text/plain": [
       "['phone',\n",
       " 'case',\n",
       " 'cover',\n",
       " 'feel',\n",
       " 'rubber',\n",
       " 'look',\n",
       " 'like',\n",
       " 'receiv',\n",
       " 'recommend',\n",
       " 'want',\n",
       " 'good',\n",
       " 'product',\n",
       " 'refund',\n",
       " 'excit',\n",
       " 'love',\n",
       " 'color',\n",
       " 'start',\n",
       " 'notic']"
      ]
     },
     "execution_count": 43,
     "metadata": {},
     "output_type": "execute_result"
    }
   ],
   "source": [
    "# let us see an example for that before implenting it into the whole dataframe column\n",
    "freq_words(df['review_cleaned'][1])\n",
    "\n",
    "# working perfectly fine :"
   ]
  },
  {
   "cell_type": "code",
   "execution_count": 44,
   "metadata": {},
   "outputs": [],
   "source": [
    "# applying over the review_cleaned and saving as new column called as keyword column (having Review summary keywords \n",
    "#extracted for each product)\n",
    "\n",
    "df['Review summary keywords']=df['review_cleaned'].apply(freq_words)\n"
   ]
  },
  {
   "cell_type": "code",
   "execution_count": 45,
   "metadata": {},
   "outputs": [],
   "source": [
    "df.drop(['Review','review_cleaned'],axis=1,inplace=True)"
   ]
  },
  {
   "cell_type": "code",
   "execution_count": 54,
   "metadata": {},
   "outputs": [
    {
     "data": {
      "text/plain": [
       "['case',\n",
       " 'cute',\n",
       " 'phone',\n",
       " 'look',\n",
       " 'love',\n",
       " 'pretti',\n",
       " 'like',\n",
       " 'come',\n",
       " 'happi',\n",
       " 'want',\n",
       " 'great',\n",
       " 'fall',\n",
       " 'time',\n",
       " 'iphon',\n",
       " 'compliment',\n",
       " 'good',\n",
       " 'stone',\n",
       " 'recommend']"
      ]
     },
     "execution_count": 54,
     "metadata": {},
     "output_type": "execute_result"
    }
   ],
   "source": [
    "# Review summary keywords extracted from the ic = 7508492919\n",
    "df['Review summary keywords'][0]"
   ]
  },
  {
   "cell_type": "code",
   "execution_count": 46,
   "metadata": {},
   "outputs": [
    {
     "data": {
      "text/html": [
       "<div>\n",
       "<style scoped>\n",
       "    .dataframe tbody tr th:only-of-type {\n",
       "        vertical-align: middle;\n",
       "    }\n",
       "\n",
       "    .dataframe tbody tr th {\n",
       "        vertical-align: top;\n",
       "    }\n",
       "\n",
       "    .dataframe thead th {\n",
       "        text-align: right;\n",
       "    }\n",
       "</style>\n",
       "<table border=\"1\" class=\"dataframe\">\n",
       "  <thead>\n",
       "    <tr style=\"text-align: right;\">\n",
       "      <th></th>\n",
       "      <th>IC</th>\n",
       "      <th>maximum_rating</th>\n",
       "      <th>minimum_rating</th>\n",
       "      <th>average_rating</th>\n",
       "      <th>Review summary keywords</th>\n",
       "    </tr>\n",
       "  </thead>\n",
       "  <tbody>\n",
       "    <tr>\n",
       "      <td>0</td>\n",
       "      <td>7508492919</td>\n",
       "      <td>5</td>\n",
       "      <td>1</td>\n",
       "      <td>4.300000</td>\n",
       "      <td>[case, cute, phone, look, love, pretti, like, ...</td>\n",
       "    </tr>\n",
       "    <tr>\n",
       "      <td>1</td>\n",
       "      <td>7532385086</td>\n",
       "      <td>5</td>\n",
       "      <td>1</td>\n",
       "      <td>3.285714</td>\n",
       "      <td>[phone, case, cover, feel, rubber, look, like,...</td>\n",
       "    </tr>\n",
       "    <tr>\n",
       "      <td>2</td>\n",
       "      <td>7887421268</td>\n",
       "      <td>5</td>\n",
       "      <td>1</td>\n",
       "      <td>3.538462</td>\n",
       "      <td>[case, phone, good, product, protect, nice, lo...</td>\n",
       "    </tr>\n",
       "    <tr>\n",
       "      <td>3</td>\n",
       "      <td>8199900164</td>\n",
       "      <td>5</td>\n",
       "      <td>2</td>\n",
       "      <td>3.750000</td>\n",
       "      <td>[work, phone, thank, time, charger, stop, day,...</td>\n",
       "    </tr>\n",
       "    <tr>\n",
       "      <td>4</td>\n",
       "      <td>8288853439</td>\n",
       "      <td>5</td>\n",
       "      <td>1</td>\n",
       "      <td>3.818182</td>\n",
       "      <td>[charger, galaxi, charg, phone, great, say, bl...</td>\n",
       "    </tr>\n",
       "  </tbody>\n",
       "</table>\n",
       "</div>"
      ],
      "text/plain": [
       "           IC  maximum_rating  minimum_rating  average_rating  \\\n",
       "0  7508492919               5               1        4.300000   \n",
       "1  7532385086               5               1        3.285714   \n",
       "2  7887421268               5               1        3.538462   \n",
       "3  8199900164               5               2        3.750000   \n",
       "4  8288853439               5               1        3.818182   \n",
       "\n",
       "                             Review summary keywords  \n",
       "0  [case, cute, phone, look, love, pretti, like, ...  \n",
       "1  [phone, case, cover, feel, rubber, look, like,...  \n",
       "2  [case, phone, good, product, protect, nice, lo...  \n",
       "3  [work, phone, thank, time, charger, stop, day,...  \n",
       "4  [charger, galaxi, charg, phone, great, say, bl...  "
      ]
     },
     "execution_count": 46,
     "metadata": {},
     "output_type": "execute_result"
    }
   ],
   "source": [
    "df.head()"
   ]
  },
  {
   "cell_type": "code",
   "execution_count": 55,
   "metadata": {},
   "outputs": [
    {
     "data": {
      "text/html": [
       "<div>\n",
       "<style scoped>\n",
       "    .dataframe tbody tr th:only-of-type {\n",
       "        vertical-align: middle;\n",
       "    }\n",
       "\n",
       "    .dataframe tbody tr th {\n",
       "        vertical-align: top;\n",
       "    }\n",
       "\n",
       "    .dataframe thead th {\n",
       "        text-align: right;\n",
       "    }\n",
       "</style>\n",
       "<table border=\"1\" class=\"dataframe\">\n",
       "  <thead>\n",
       "    <tr style=\"text-align: right;\">\n",
       "      <th></th>\n",
       "      <th>IC</th>\n",
       "      <th>maximum_rating</th>\n",
       "      <th>minimum_rating</th>\n",
       "      <th>average_rating</th>\n",
       "      <th>Review summary keywords</th>\n",
       "    </tr>\n",
       "  </thead>\n",
       "  <tbody>\n",
       "    <tr>\n",
       "      <td>48128</td>\n",
       "      <td>B01HJBS5C2</td>\n",
       "      <td>5</td>\n",
       "      <td>1</td>\n",
       "      <td>3.250000</td>\n",
       "      <td>[case, phone, protect, clip, belt, holster, ch...</td>\n",
       "    </tr>\n",
       "    <tr>\n",
       "      <td>48129</td>\n",
       "      <td>B01HJC7N4C</td>\n",
       "      <td>5</td>\n",
       "      <td>3</td>\n",
       "      <td>4.600000</td>\n",
       "      <td>[headset, devic, app, phone, glass, come, comf...</td>\n",
       "    </tr>\n",
       "    <tr>\n",
       "      <td>48130</td>\n",
       "      <td>B01HJCN1UC</td>\n",
       "      <td>5</td>\n",
       "      <td>4</td>\n",
       "      <td>4.727273</td>\n",
       "      <td>[cabl, cord, kindl, great, charg, love, good, ...</td>\n",
       "    </tr>\n",
       "    <tr>\n",
       "      <td>48131</td>\n",
       "      <td>B01HJCN55I</td>\n",
       "      <td>5</td>\n",
       "      <td>2</td>\n",
       "      <td>4.454545</td>\n",
       "      <td>[great, charg, time, work, cabl, long, issu, l...</td>\n",
       "    </tr>\n",
       "    <tr>\n",
       "      <td>48132</td>\n",
       "      <td>B01HJH9IN6</td>\n",
       "      <td>5</td>\n",
       "      <td>1</td>\n",
       "      <td>2.833333</td>\n",
       "      <td>[case, phone, need, protect, nice, cool, crack...</td>\n",
       "    </tr>\n",
       "  </tbody>\n",
       "</table>\n",
       "</div>"
      ],
      "text/plain": [
       "               IC  maximum_rating  minimum_rating  average_rating  \\\n",
       "48128  B01HJBS5C2               5               1        3.250000   \n",
       "48129  B01HJC7N4C               5               3        4.600000   \n",
       "48130  B01HJCN1UC               5               4        4.727273   \n",
       "48131  B01HJCN55I               5               2        4.454545   \n",
       "48132  B01HJH9IN6               5               1        2.833333   \n",
       "\n",
       "                                 Review summary keywords  \n",
       "48128  [case, phone, protect, clip, belt, holster, ch...  \n",
       "48129  [headset, devic, app, phone, glass, come, comf...  \n",
       "48130  [cabl, cord, kindl, great, charg, love, good, ...  \n",
       "48131  [great, charg, time, work, cabl, long, issu, l...  \n",
       "48132  [case, phone, need, protect, nice, cool, crack...  "
      ]
     },
     "execution_count": 55,
     "metadata": {},
     "output_type": "execute_result"
    }
   ],
   "source": [
    "df.tail()"
   ]
  },
  {
   "cell_type": "code",
   "execution_count": 47,
   "metadata": {},
   "outputs": [
    {
     "name": "stdout",
     "output_type": "stream",
     "text": [
      "['case', 'cute', 'phone', 'look', 'love', 'pretti', 'like', 'come', 'happi', 'want', 'great', 'fall', 'time', 'iphon', 'compliment', 'good', 'stone', 'recommend']\n",
      "['phone', 'case', 'cover', 'feel', 'rubber', 'look', 'like', 'receiv', 'recommend', 'want', 'good', 'product', 'refund', 'excit', 'love', 'color', 'start', 'notic']\n",
      "['case', 'phone', 'good', 'product', 'protect', 'nice', 'look', 'great', 'receiv', 'price', 'spot', 'want', 'chang', 'fast', 'ship', 'peel', 'miss', 'deal']\n",
      "['work', 'phone', 'thank', 'time', 'charger', 'stop', 'day', 'seeem', 'okay', 'mind', 'buy', 'beep', 'doesnt', 'charg', 'awesom']\n",
      "['charger', 'galaxi', 'charg', 'phone', 'great', 'say', 'blackberri', 'work', 'fast', 'price', 'samsung', 'like', 'pretti', 'good', 'right', 'go', 'loos', 'plus']\n",
      "['work', 'charger', 'phone', 'charg', 'samsung', 'good', 'recommend', 'great', 'cord', 'product', 'price', 'plug', 'like', 'light', 'month', 'galaxi', 'stop', 'time']\n",
      "['charger', 'work', 'cord', 'perfect', 'long', 'come', 'charg', 'compani', 'base', 'phone', 'note', 'backup', 'chage', 'samsung', 'nite', 'fast', 'white', 'factori']\n",
      "['phone', 'charger', 'work', 'charg', 'samsung', 'product', 'order', 'long', 'good', 'great', 'galaxi', 'need', 'cabl', 'receiv', 'time', 'plug', 'perfect', 'origin']\n",
      "['case', 'phone', 'buy', 'good', 'littl', 'price', 'fall', 'remov', 'nice', 'print', 'start', 'fade', 'peel', 'use', 'wife', 'chang', 'week', 'protect']\n",
      "['work', 'charg', 'charger', 'phone', 'note', 'great', 'samsung', 'like', 'final', 'quick', 'advertis', 'high', 'time', 'long', 'seller', 'junk', 'light', 'wast']\n",
      "['phone', 'charg', 'case', 'batteri', 'add', 'plug', 'power', 'extra', 'bulk', 'make', 'carri', 'issu', 'like', 'bank', 'great', 'feel', 'updat', 'grip']\n",
      "['phone', 'case', 'charg', 'drop', 'work', 'love', 'product', 'plastic', 'screen', 'great', 'take', 'time', 'jack', 'skinni', 'pictur', 'heavi', 'holder', 'describ']\n",
      "['phone', 'batteri', 'case', 'power', 'time', 'great', 'charg', 'need', 'devic', 'cover', 'work', 'drain', 'powerbear', 'buy', 'signific', 'better', 'kickstand', 'price']\n",
      "['phone', 'batteri', 'case', 'charg', 'love', 'product', 'great', 'look', 'need', 'cabl', 'buy', 'work', 'powerbear', 'sturdi', 'iphon', 'addit', 'children', 'dead']\n",
      "['batteri', 'phone', 'charg', 'case', 'cover', 'great', 'day', 'work', 'last', 'product', 'good', 'life', 'extend', 'like', 'buy', 'go', 'feel', 'look']\n"
     ]
    }
   ],
   "source": [
    "#Printing first 15 summary keywords  results to check.\n",
    "for keyword in df['Review summary keywords'][:15]:\n",
    "    print(keyword)"
   ]
  },
  {
   "cell_type": "code",
   "execution_count": 48,
   "metadata": {},
   "outputs": [],
   "source": [
    "# finally we are having a dataset containg :\n",
    "\n",
    "#  ==> the unique IC (no duplicates)\n",
    "#  ==> minimum rating given by the users\n",
    "#  ==> maximum rating given by the users \n",
    "#  ==> minimum rating given by the users\n",
    "#  ==> average rating given by the users\n",
    "#  ==> cleaned reviews (no stopwords,punctuation # only important key words)\n",
    "#  ==> Review summary keywords extracted for each product == keywords"
   ]
  },
  {
   "cell_type": "code",
   "execution_count": 49,
   "metadata": {},
   "outputs": [],
   "source": [
    "# saving the dataframe  into the JSON file :\n",
    "\n",
    "df.to_json('product_review_summarization_.json')"
   ]
  },
  {
   "cell_type": "code",
   "execution_count": 52,
   "metadata": {},
   "outputs": [],
   "source": [
    "#\n",
    "with open('C:/Users/prince/product_review_summarization_.json') as f:\n",
    "    review=pd.read_json(f)"
   ]
  },
  {
   "cell_type": "code",
   "execution_count": 53,
   "metadata": {},
   "outputs": [
    {
     "data": {
      "text/html": [
       "<div>\n",
       "<style scoped>\n",
       "    .dataframe tbody tr th:only-of-type {\n",
       "        vertical-align: middle;\n",
       "    }\n",
       "\n",
       "    .dataframe tbody tr th {\n",
       "        vertical-align: top;\n",
       "    }\n",
       "\n",
       "    .dataframe thead th {\n",
       "        text-align: right;\n",
       "    }\n",
       "</style>\n",
       "<table border=\"1\" class=\"dataframe\">\n",
       "  <thead>\n",
       "    <tr style=\"text-align: right;\">\n",
       "      <th></th>\n",
       "      <th>IC</th>\n",
       "      <th>maximum_rating</th>\n",
       "      <th>minimum_rating</th>\n",
       "      <th>average_rating</th>\n",
       "      <th>Review summary keywords</th>\n",
       "    </tr>\n",
       "  </thead>\n",
       "  <tbody>\n",
       "    <tr>\n",
       "      <td>0</td>\n",
       "      <td>7508492919</td>\n",
       "      <td>5</td>\n",
       "      <td>1</td>\n",
       "      <td>4.300000</td>\n",
       "      <td>[case, cute, phone, look, love, pretti, like, ...</td>\n",
       "    </tr>\n",
       "    <tr>\n",
       "      <td>1</td>\n",
       "      <td>7532385086</td>\n",
       "      <td>5</td>\n",
       "      <td>1</td>\n",
       "      <td>3.285714</td>\n",
       "      <td>[phone, case, cover, feel, rubber, look, like,...</td>\n",
       "    </tr>\n",
       "    <tr>\n",
       "      <td>2</td>\n",
       "      <td>7887421268</td>\n",
       "      <td>5</td>\n",
       "      <td>1</td>\n",
       "      <td>3.538462</td>\n",
       "      <td>[case, phone, good, product, protect, nice, lo...</td>\n",
       "    </tr>\n",
       "    <tr>\n",
       "      <td>3</td>\n",
       "      <td>8199900164</td>\n",
       "      <td>5</td>\n",
       "      <td>2</td>\n",
       "      <td>3.750000</td>\n",
       "      <td>[work, phone, thank, time, charger, stop, day,...</td>\n",
       "    </tr>\n",
       "  </tbody>\n",
       "</table>\n",
       "</div>"
      ],
      "text/plain": [
       "           IC  maximum_rating  minimum_rating  average_rating  \\\n",
       "0  7508492919               5               1        4.300000   \n",
       "1  7532385086               5               1        3.285714   \n",
       "2  7887421268               5               1        3.538462   \n",
       "3  8199900164               5               2        3.750000   \n",
       "\n",
       "                             Review summary keywords  \n",
       "0  [case, cute, phone, look, love, pretti, like, ...  \n",
       "1  [phone, case, cover, feel, rubber, look, like,...  \n",
       "2  [case, phone, good, product, protect, nice, lo...  \n",
       "3  [work, phone, thank, time, charger, stop, day,...  "
      ]
     },
     "execution_count": 53,
     "metadata": {},
     "output_type": "execute_result"
    }
   ],
   "source": [
    "review.head(4)"
   ]
  },
  {
   "cell_type": "code",
   "execution_count": null,
   "metadata": {},
   "outputs": [],
   "source": []
  }
 ],
 "metadata": {
  "kernelspec": {
   "display_name": "Python 3",
   "language": "python",
   "name": "python3"
  },
  "language_info": {
   "codemirror_mode": {
    "name": "ipython",
    "version": 3
   },
   "file_extension": ".py",
   "mimetype": "text/x-python",
   "name": "python",
   "nbconvert_exporter": "python",
   "pygments_lexer": "ipython3",
   "version": "3.7.4"
  }
 },
 "nbformat": 4,
 "nbformat_minor": 2
}
